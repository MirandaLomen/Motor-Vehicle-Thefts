{
 "cells": [
  {
   "cell_type": "code",
   "execution_count": 320,
   "id": "fad6e378-615c-4156-9c0f-40ed267e065c",
   "metadata": {},
   "outputs": [],
   "source": [
    "import pandas as pd"
   ]
  },
  {
   "cell_type": "code",
   "execution_count": 322,
   "id": "976643a6-a6e3-43fd-92cb-f1da290a7296",
   "metadata": {},
   "outputs": [],
   "source": [
    "import seaborn as sns"
   ]
  },
  {
   "cell_type": "code",
   "execution_count": 324,
   "id": "ae42f75b-2746-4c38-a0eb-863cef68c10e",
   "metadata": {},
   "outputs": [],
   "source": [
    "df = pd.read_csv(\"Motor Thefts Data.csv\")"
   ]
  },
  {
   "cell_type": "code",
   "execution_count": 326,
   "id": "4330a145-3372-4236-82a5-1349353590c7",
   "metadata": {},
   "outputs": [],
   "source": [
    "# Data set is from dates 10-7-2021 to 4-6-2022 "
   ]
  },
  {
   "cell_type": "code",
   "execution_count": 328,
   "id": "254cb34b-33e7-4b2e-9c28-13a142f2beca",
   "metadata": {},
   "outputs": [],
   "source": [
    "# Inspect data"
   ]
  },
  {
   "cell_type": "code",
   "execution_count": 330,
   "id": "f36d0138-377d-4522-8cfc-46315fb10e2e",
   "metadata": {},
   "outputs": [
    {
     "data": {
      "text/html": [
       "<div>\n",
       "<style scoped>\n",
       "    .dataframe tbody tr th:only-of-type {\n",
       "        vertical-align: middle;\n",
       "    }\n",
       "\n",
       "    .dataframe tbody tr th {\n",
       "        vertical-align: top;\n",
       "    }\n",
       "\n",
       "    .dataframe thead th {\n",
       "        text-align: right;\n",
       "    }\n",
       "</style>\n",
       "<table border=\"1\" class=\"dataframe\">\n",
       "  <thead>\n",
       "    <tr style=\"text-align: right;\">\n",
       "      <th></th>\n",
       "      <th>date_stolen</th>\n",
       "      <th>make_name</th>\n",
       "      <th>make_type</th>\n",
       "      <th>vehicle_type</th>\n",
       "      <th>model_year</th>\n",
       "      <th>vehicle_color</th>\n",
       "      <th>region</th>\n",
       "      <th>population</th>\n",
       "      <th>population_density</th>\n",
       "    </tr>\n",
       "  </thead>\n",
       "  <tbody>\n",
       "    <tr>\n",
       "      <th>0</th>\n",
       "      <td>10/7/2021</td>\n",
       "      <td>Trailer</td>\n",
       "      <td>Standard</td>\n",
       "      <td>Boat Trailer</td>\n",
       "      <td>2004</td>\n",
       "      <td>White</td>\n",
       "      <td>Bay of Plenty</td>\n",
       "      <td>347700</td>\n",
       "      <td>28.80</td>\n",
       "    </tr>\n",
       "    <tr>\n",
       "      <th>1</th>\n",
       "      <td>10/7/2021</td>\n",
       "      <td>Trailer</td>\n",
       "      <td>Standard</td>\n",
       "      <td>Trailer</td>\n",
       "      <td>2007</td>\n",
       "      <td>Black</td>\n",
       "      <td>Waikato</td>\n",
       "      <td>513800</td>\n",
       "      <td>21.50</td>\n",
       "    </tr>\n",
       "    <tr>\n",
       "      <th>2</th>\n",
       "      <td>10/7/2021</td>\n",
       "      <td>BMW</td>\n",
       "      <td>Luxury</td>\n",
       "      <td>Roadbike</td>\n",
       "      <td>2017</td>\n",
       "      <td>White</td>\n",
       "      <td>Auckland</td>\n",
       "      <td>1695200</td>\n",
       "      <td>343.09</td>\n",
       "    </tr>\n",
       "    <tr>\n",
       "      <th>3</th>\n",
       "      <td>10/7/2021</td>\n",
       "      <td>Ford</td>\n",
       "      <td>Standard</td>\n",
       "      <td>Saloon</td>\n",
       "      <td>2006</td>\n",
       "      <td>Grey</td>\n",
       "      <td>Wellington</td>\n",
       "      <td>543500</td>\n",
       "      <td>67.52</td>\n",
       "    </tr>\n",
       "    <tr>\n",
       "      <th>4</th>\n",
       "      <td>10/7/2021</td>\n",
       "      <td>Toyota</td>\n",
       "      <td>Standard</td>\n",
       "      <td>Light Van</td>\n",
       "      <td>2008</td>\n",
       "      <td>Silver</td>\n",
       "      <td>Otago</td>\n",
       "      <td>246000</td>\n",
       "      <td>7.89</td>\n",
       "    </tr>\n",
       "    <tr>\n",
       "      <th>5</th>\n",
       "      <td>10/7/2021</td>\n",
       "      <td>Nissan</td>\n",
       "      <td>Standard</td>\n",
       "      <td>Flat Deck Truck</td>\n",
       "      <td>1998</td>\n",
       "      <td>White</td>\n",
       "      <td>Auckland</td>\n",
       "      <td>1695200</td>\n",
       "      <td>343.09</td>\n",
       "    </tr>\n",
       "    <tr>\n",
       "      <th>6</th>\n",
       "      <td>10/7/2021</td>\n",
       "      <td>Honda</td>\n",
       "      <td>Standard</td>\n",
       "      <td>Saloon</td>\n",
       "      <td>1998</td>\n",
       "      <td>Red</td>\n",
       "      <td>Northland</td>\n",
       "      <td>201500</td>\n",
       "      <td>16.11</td>\n",
       "    </tr>\n",
       "    <tr>\n",
       "      <th>7</th>\n",
       "      <td>10/7/2021</td>\n",
       "      <td>Holden</td>\n",
       "      <td>Standard</td>\n",
       "      <td>Saloon</td>\n",
       "      <td>2006</td>\n",
       "      <td>Black</td>\n",
       "      <td>Auckland</td>\n",
       "      <td>1695200</td>\n",
       "      <td>343.09</td>\n",
       "    </tr>\n",
       "    <tr>\n",
       "      <th>8</th>\n",
       "      <td>10/7/2021</td>\n",
       "      <td>Toyota</td>\n",
       "      <td>Standard</td>\n",
       "      <td>Stationwagon</td>\n",
       "      <td>2018</td>\n",
       "      <td>White</td>\n",
       "      <td>Auckland</td>\n",
       "      <td>1695200</td>\n",
       "      <td>343.09</td>\n",
       "    </tr>\n",
       "    <tr>\n",
       "      <th>9</th>\n",
       "      <td>10/7/2021</td>\n",
       "      <td>BMW</td>\n",
       "      <td>Luxury</td>\n",
       "      <td>Saloon</td>\n",
       "      <td>2000</td>\n",
       "      <td>Red</td>\n",
       "      <td>Wellington</td>\n",
       "      <td>543500</td>\n",
       "      <td>67.52</td>\n",
       "    </tr>\n",
       "  </tbody>\n",
       "</table>\n",
       "</div>"
      ],
      "text/plain": [
       "  date_stolen make_name make_type     vehicle_type  model_year vehicle_color  \\\n",
       "0   10/7/2021   Trailer  Standard     Boat Trailer        2004         White   \n",
       "1   10/7/2021   Trailer  Standard          Trailer        2007         Black   \n",
       "2   10/7/2021       BMW    Luxury         Roadbike        2017         White   \n",
       "3   10/7/2021      Ford  Standard           Saloon        2006          Grey   \n",
       "4   10/7/2021    Toyota  Standard        Light Van        2008        Silver   \n",
       "5   10/7/2021    Nissan  Standard  Flat Deck Truck        1998         White   \n",
       "6   10/7/2021     Honda  Standard           Saloon        1998           Red   \n",
       "7   10/7/2021    Holden  Standard           Saloon        2006         Black   \n",
       "8   10/7/2021    Toyota  Standard     Stationwagon        2018         White   \n",
       "9   10/7/2021       BMW    Luxury           Saloon        2000           Red   \n",
       "\n",
       "          region  population  population_density  \n",
       "0  Bay of Plenty      347700               28.80  \n",
       "1        Waikato      513800               21.50  \n",
       "2       Auckland     1695200              343.09  \n",
       "3     Wellington      543500               67.52  \n",
       "4          Otago      246000                7.89  \n",
       "5       Auckland     1695200              343.09  \n",
       "6      Northland      201500               16.11  \n",
       "7       Auckland     1695200              343.09  \n",
       "8       Auckland     1695200              343.09  \n",
       "9     Wellington      543500               67.52  "
      ]
     },
     "execution_count": 330,
     "metadata": {},
     "output_type": "execute_result"
    }
   ],
   "source": [
    "df.head(10)"
   ]
  },
  {
   "cell_type": "code",
   "execution_count": 332,
   "id": "2392ca9c-c09e-443f-bf55-1be8ee61bb89",
   "metadata": {},
   "outputs": [
    {
     "data": {
      "text/plain": [
       "date_stolen            object\n",
       "make_name              object\n",
       "make_type              object\n",
       "vehicle_type           object\n",
       "model_year              int64\n",
       "vehicle_color          object\n",
       "region                 object\n",
       "population              int64\n",
       "population_density    float64\n",
       "dtype: object"
      ]
     },
     "execution_count": 332,
     "metadata": {},
     "output_type": "execute_result"
    }
   ],
   "source": [
    "df.dtypes"
   ]
  },
  {
   "cell_type": "code",
   "execution_count": 334,
   "id": "b9d8726a-9bef-4ebd-88a9-d07ad8009073",
   "metadata": {},
   "outputs": [],
   "source": [
    "# Convert date_stolen column to date type"
   ]
  },
  {
   "cell_type": "code",
   "execution_count": 336,
   "id": "b1b09cf8-90e3-4c3b-9832-91f46b3fe37c",
   "metadata": {},
   "outputs": [],
   "source": [
    "df['date_stolen'] = pd.to_datetime(df['date_stolen'])"
   ]
  },
  {
   "cell_type": "code",
   "execution_count": 338,
   "id": "e2768cd7-02bd-42f0-b0cb-2a342a69a463",
   "metadata": {},
   "outputs": [
    {
     "data": {
      "text/html": [
       "<div>\n",
       "<style scoped>\n",
       "    .dataframe tbody tr th:only-of-type {\n",
       "        vertical-align: middle;\n",
       "    }\n",
       "\n",
       "    .dataframe tbody tr th {\n",
       "        vertical-align: top;\n",
       "    }\n",
       "\n",
       "    .dataframe thead th {\n",
       "        text-align: right;\n",
       "    }\n",
       "</style>\n",
       "<table border=\"1\" class=\"dataframe\">\n",
       "  <thead>\n",
       "    <tr style=\"text-align: right;\">\n",
       "      <th></th>\n",
       "      <th>date_stolen</th>\n",
       "      <th>make_name</th>\n",
       "      <th>make_type</th>\n",
       "      <th>vehicle_type</th>\n",
       "      <th>model_year</th>\n",
       "      <th>vehicle_color</th>\n",
       "      <th>region</th>\n",
       "      <th>population</th>\n",
       "      <th>population_density</th>\n",
       "    </tr>\n",
       "  </thead>\n",
       "  <tbody>\n",
       "    <tr>\n",
       "      <th>0</th>\n",
       "      <td>2021-10-07</td>\n",
       "      <td>Trailer</td>\n",
       "      <td>Standard</td>\n",
       "      <td>Boat Trailer</td>\n",
       "      <td>2004</td>\n",
       "      <td>White</td>\n",
       "      <td>Bay of Plenty</td>\n",
       "      <td>347700</td>\n",
       "      <td>28.80</td>\n",
       "    </tr>\n",
       "    <tr>\n",
       "      <th>1</th>\n",
       "      <td>2021-10-07</td>\n",
       "      <td>Trailer</td>\n",
       "      <td>Standard</td>\n",
       "      <td>Trailer</td>\n",
       "      <td>2007</td>\n",
       "      <td>Black</td>\n",
       "      <td>Waikato</td>\n",
       "      <td>513800</td>\n",
       "      <td>21.50</td>\n",
       "    </tr>\n",
       "    <tr>\n",
       "      <th>2</th>\n",
       "      <td>2021-10-07</td>\n",
       "      <td>BMW</td>\n",
       "      <td>Luxury</td>\n",
       "      <td>Roadbike</td>\n",
       "      <td>2017</td>\n",
       "      <td>White</td>\n",
       "      <td>Auckland</td>\n",
       "      <td>1695200</td>\n",
       "      <td>343.09</td>\n",
       "    </tr>\n",
       "    <tr>\n",
       "      <th>3</th>\n",
       "      <td>2021-10-07</td>\n",
       "      <td>Ford</td>\n",
       "      <td>Standard</td>\n",
       "      <td>Saloon</td>\n",
       "      <td>2006</td>\n",
       "      <td>Grey</td>\n",
       "      <td>Wellington</td>\n",
       "      <td>543500</td>\n",
       "      <td>67.52</td>\n",
       "    </tr>\n",
       "    <tr>\n",
       "      <th>4</th>\n",
       "      <td>2021-10-07</td>\n",
       "      <td>Toyota</td>\n",
       "      <td>Standard</td>\n",
       "      <td>Light Van</td>\n",
       "      <td>2008</td>\n",
       "      <td>Silver</td>\n",
       "      <td>Otago</td>\n",
       "      <td>246000</td>\n",
       "      <td>7.89</td>\n",
       "    </tr>\n",
       "  </tbody>\n",
       "</table>\n",
       "</div>"
      ],
      "text/plain": [
       "  date_stolen make_name make_type  vehicle_type  model_year vehicle_color  \\\n",
       "0  2021-10-07   Trailer  Standard  Boat Trailer        2004         White   \n",
       "1  2021-10-07   Trailer  Standard       Trailer        2007         Black   \n",
       "2  2021-10-07       BMW    Luxury      Roadbike        2017         White   \n",
       "3  2021-10-07      Ford  Standard        Saloon        2006          Grey   \n",
       "4  2021-10-07    Toyota  Standard     Light Van        2008        Silver   \n",
       "\n",
       "          region  population  population_density  \n",
       "0  Bay of Plenty      347700               28.80  \n",
       "1        Waikato      513800               21.50  \n",
       "2       Auckland     1695200              343.09  \n",
       "3     Wellington      543500               67.52  \n",
       "4          Otago      246000                7.89  "
      ]
     },
     "execution_count": 338,
     "metadata": {},
     "output_type": "execute_result"
    }
   ],
   "source": [
    "df.head()"
   ]
  },
  {
   "cell_type": "code",
   "execution_count": 340,
   "id": "89e3480b-3ab1-4efe-a50a-b6df5e1dcca3",
   "metadata": {},
   "outputs": [],
   "source": [
    "# Make a month_stolen column"
   ]
  },
  {
   "cell_type": "code",
   "execution_count": 342,
   "id": "d0093e5e-e338-4bff-acd2-d273f6ce09f4",
   "metadata": {},
   "outputs": [],
   "source": [
    "df['month_stolen'] = df['date_stolen'].dt.month"
   ]
  },
  {
   "cell_type": "code",
   "execution_count": 344,
   "id": "1b6c0325-9ba5-4f9e-be2f-86754bfa728e",
   "metadata": {},
   "outputs": [
    {
     "data": {
      "text/html": [
       "<div>\n",
       "<style scoped>\n",
       "    .dataframe tbody tr th:only-of-type {\n",
       "        vertical-align: middle;\n",
       "    }\n",
       "\n",
       "    .dataframe tbody tr th {\n",
       "        vertical-align: top;\n",
       "    }\n",
       "\n",
       "    .dataframe thead th {\n",
       "        text-align: right;\n",
       "    }\n",
       "</style>\n",
       "<table border=\"1\" class=\"dataframe\">\n",
       "  <thead>\n",
       "    <tr style=\"text-align: right;\">\n",
       "      <th></th>\n",
       "      <th>date_stolen</th>\n",
       "      <th>make_name</th>\n",
       "      <th>make_type</th>\n",
       "      <th>vehicle_type</th>\n",
       "      <th>model_year</th>\n",
       "      <th>vehicle_color</th>\n",
       "      <th>region</th>\n",
       "      <th>population</th>\n",
       "      <th>population_density</th>\n",
       "      <th>month_stolen</th>\n",
       "    </tr>\n",
       "  </thead>\n",
       "  <tbody>\n",
       "    <tr>\n",
       "      <th>0</th>\n",
       "      <td>2021-10-07</td>\n",
       "      <td>Trailer</td>\n",
       "      <td>Standard</td>\n",
       "      <td>Boat Trailer</td>\n",
       "      <td>2004</td>\n",
       "      <td>White</td>\n",
       "      <td>Bay of Plenty</td>\n",
       "      <td>347700</td>\n",
       "      <td>28.80</td>\n",
       "      <td>10</td>\n",
       "    </tr>\n",
       "    <tr>\n",
       "      <th>1</th>\n",
       "      <td>2021-10-07</td>\n",
       "      <td>Trailer</td>\n",
       "      <td>Standard</td>\n",
       "      <td>Trailer</td>\n",
       "      <td>2007</td>\n",
       "      <td>Black</td>\n",
       "      <td>Waikato</td>\n",
       "      <td>513800</td>\n",
       "      <td>21.50</td>\n",
       "      <td>10</td>\n",
       "    </tr>\n",
       "    <tr>\n",
       "      <th>2</th>\n",
       "      <td>2021-10-07</td>\n",
       "      <td>BMW</td>\n",
       "      <td>Luxury</td>\n",
       "      <td>Roadbike</td>\n",
       "      <td>2017</td>\n",
       "      <td>White</td>\n",
       "      <td>Auckland</td>\n",
       "      <td>1695200</td>\n",
       "      <td>343.09</td>\n",
       "      <td>10</td>\n",
       "    </tr>\n",
       "    <tr>\n",
       "      <th>3</th>\n",
       "      <td>2021-10-07</td>\n",
       "      <td>Ford</td>\n",
       "      <td>Standard</td>\n",
       "      <td>Saloon</td>\n",
       "      <td>2006</td>\n",
       "      <td>Grey</td>\n",
       "      <td>Wellington</td>\n",
       "      <td>543500</td>\n",
       "      <td>67.52</td>\n",
       "      <td>10</td>\n",
       "    </tr>\n",
       "    <tr>\n",
       "      <th>4</th>\n",
       "      <td>2021-10-07</td>\n",
       "      <td>Toyota</td>\n",
       "      <td>Standard</td>\n",
       "      <td>Light Van</td>\n",
       "      <td>2008</td>\n",
       "      <td>Silver</td>\n",
       "      <td>Otago</td>\n",
       "      <td>246000</td>\n",
       "      <td>7.89</td>\n",
       "      <td>10</td>\n",
       "    </tr>\n",
       "  </tbody>\n",
       "</table>\n",
       "</div>"
      ],
      "text/plain": [
       "  date_stolen make_name make_type  vehicle_type  model_year vehicle_color  \\\n",
       "0  2021-10-07   Trailer  Standard  Boat Trailer        2004         White   \n",
       "1  2021-10-07   Trailer  Standard       Trailer        2007         Black   \n",
       "2  2021-10-07       BMW    Luxury      Roadbike        2017         White   \n",
       "3  2021-10-07      Ford  Standard        Saloon        2006          Grey   \n",
       "4  2021-10-07    Toyota  Standard     Light Van        2008        Silver   \n",
       "\n",
       "          region  population  population_density  month_stolen  \n",
       "0  Bay of Plenty      347700               28.80            10  \n",
       "1        Waikato      513800               21.50            10  \n",
       "2       Auckland     1695200              343.09            10  \n",
       "3     Wellington      543500               67.52            10  \n",
       "4          Otago      246000                7.89            10  "
      ]
     },
     "execution_count": 344,
     "metadata": {},
     "output_type": "execute_result"
    }
   ],
   "source": [
    "df.head()"
   ]
  },
  {
   "cell_type": "code",
   "execution_count": 346,
   "id": "625bbce4-8627-4513-8372-5dee4df603c7",
   "metadata": {},
   "outputs": [],
   "source": [
    "# Make a year_stolen column"
   ]
  },
  {
   "cell_type": "code",
   "execution_count": 348,
   "id": "7f326e56-af3b-447c-887b-3d9ef1d6a7b4",
   "metadata": {},
   "outputs": [],
   "source": [
    "df['year_stolen'] = df['date_stolen'].dt.year"
   ]
  },
  {
   "cell_type": "code",
   "execution_count": 350,
   "id": "9e6a331e-61c6-4f58-9e5f-84adcf8cbf23",
   "metadata": {},
   "outputs": [
    {
     "data": {
      "text/html": [
       "<div>\n",
       "<style scoped>\n",
       "    .dataframe tbody tr th:only-of-type {\n",
       "        vertical-align: middle;\n",
       "    }\n",
       "\n",
       "    .dataframe tbody tr th {\n",
       "        vertical-align: top;\n",
       "    }\n",
       "\n",
       "    .dataframe thead th {\n",
       "        text-align: right;\n",
       "    }\n",
       "</style>\n",
       "<table border=\"1\" class=\"dataframe\">\n",
       "  <thead>\n",
       "    <tr style=\"text-align: right;\">\n",
       "      <th></th>\n",
       "      <th>date_stolen</th>\n",
       "      <th>make_name</th>\n",
       "      <th>make_type</th>\n",
       "      <th>vehicle_type</th>\n",
       "      <th>model_year</th>\n",
       "      <th>vehicle_color</th>\n",
       "      <th>region</th>\n",
       "      <th>population</th>\n",
       "      <th>population_density</th>\n",
       "      <th>month_stolen</th>\n",
       "      <th>year_stolen</th>\n",
       "    </tr>\n",
       "  </thead>\n",
       "  <tbody>\n",
       "    <tr>\n",
       "      <th>0</th>\n",
       "      <td>2021-10-07</td>\n",
       "      <td>Trailer</td>\n",
       "      <td>Standard</td>\n",
       "      <td>Boat Trailer</td>\n",
       "      <td>2004</td>\n",
       "      <td>White</td>\n",
       "      <td>Bay of Plenty</td>\n",
       "      <td>347700</td>\n",
       "      <td>28.80</td>\n",
       "      <td>10</td>\n",
       "      <td>2021</td>\n",
       "    </tr>\n",
       "    <tr>\n",
       "      <th>1</th>\n",
       "      <td>2021-10-07</td>\n",
       "      <td>Trailer</td>\n",
       "      <td>Standard</td>\n",
       "      <td>Trailer</td>\n",
       "      <td>2007</td>\n",
       "      <td>Black</td>\n",
       "      <td>Waikato</td>\n",
       "      <td>513800</td>\n",
       "      <td>21.50</td>\n",
       "      <td>10</td>\n",
       "      <td>2021</td>\n",
       "    </tr>\n",
       "    <tr>\n",
       "      <th>2</th>\n",
       "      <td>2021-10-07</td>\n",
       "      <td>BMW</td>\n",
       "      <td>Luxury</td>\n",
       "      <td>Roadbike</td>\n",
       "      <td>2017</td>\n",
       "      <td>White</td>\n",
       "      <td>Auckland</td>\n",
       "      <td>1695200</td>\n",
       "      <td>343.09</td>\n",
       "      <td>10</td>\n",
       "      <td>2021</td>\n",
       "    </tr>\n",
       "    <tr>\n",
       "      <th>3</th>\n",
       "      <td>2021-10-07</td>\n",
       "      <td>Ford</td>\n",
       "      <td>Standard</td>\n",
       "      <td>Saloon</td>\n",
       "      <td>2006</td>\n",
       "      <td>Grey</td>\n",
       "      <td>Wellington</td>\n",
       "      <td>543500</td>\n",
       "      <td>67.52</td>\n",
       "      <td>10</td>\n",
       "      <td>2021</td>\n",
       "    </tr>\n",
       "    <tr>\n",
       "      <th>4</th>\n",
       "      <td>2021-10-07</td>\n",
       "      <td>Toyota</td>\n",
       "      <td>Standard</td>\n",
       "      <td>Light Van</td>\n",
       "      <td>2008</td>\n",
       "      <td>Silver</td>\n",
       "      <td>Otago</td>\n",
       "      <td>246000</td>\n",
       "      <td>7.89</td>\n",
       "      <td>10</td>\n",
       "      <td>2021</td>\n",
       "    </tr>\n",
       "  </tbody>\n",
       "</table>\n",
       "</div>"
      ],
      "text/plain": [
       "  date_stolen make_name make_type  vehicle_type  model_year vehicle_color  \\\n",
       "0  2021-10-07   Trailer  Standard  Boat Trailer        2004         White   \n",
       "1  2021-10-07   Trailer  Standard       Trailer        2007         Black   \n",
       "2  2021-10-07       BMW    Luxury      Roadbike        2017         White   \n",
       "3  2021-10-07      Ford  Standard        Saloon        2006          Grey   \n",
       "4  2021-10-07    Toyota  Standard     Light Van        2008        Silver   \n",
       "\n",
       "          region  population  population_density  month_stolen  year_stolen  \n",
       "0  Bay of Plenty      347700               28.80            10         2021  \n",
       "1        Waikato      513800               21.50            10         2021  \n",
       "2       Auckland     1695200              343.09            10         2021  \n",
       "3     Wellington      543500               67.52            10         2021  \n",
       "4          Otago      246000                7.89            10         2021  "
      ]
     },
     "execution_count": 350,
     "metadata": {},
     "output_type": "execute_result"
    }
   ],
   "source": [
    "df.head()"
   ]
  },
  {
   "cell_type": "code",
   "execution_count": 352,
   "id": "73475021-51a7-40bb-b787-c53dbbfcb8ba",
   "metadata": {},
   "outputs": [],
   "source": [
    "# Check for null values"
   ]
  },
  {
   "cell_type": "code",
   "execution_count": 354,
   "id": "d21451ac-fed7-4628-8fed-6d93a4a0026c",
   "metadata": {},
   "outputs": [
    {
     "data": {
      "text/plain": [
       "date_stolen           0\n",
       "make_name             0\n",
       "make_type             0\n",
       "vehicle_type          0\n",
       "model_year            0\n",
       "vehicle_color         0\n",
       "region                0\n",
       "population            0\n",
       "population_density    0\n",
       "month_stolen          0\n",
       "year_stolen           0\n",
       "dtype: int64"
      ]
     },
     "execution_count": 354,
     "metadata": {},
     "output_type": "execute_result"
    }
   ],
   "source": [
    "df.isna().sum()"
   ]
  },
  {
   "cell_type": "code",
   "execution_count": 356,
   "id": "dd31fef5-1d69-40b4-b593-a28fbff6f38a",
   "metadata": {},
   "outputs": [],
   "source": [
    "# Reorganize columns"
   ]
  },
  {
   "cell_type": "code",
   "execution_count": 358,
   "id": "205ca7e7-617f-48fb-a9c7-9d166b1cf0fc",
   "metadata": {},
   "outputs": [],
   "source": [
    "df = df[['date_stolen', 'year_stolen', 'month_stolen', 'make_type', 'model_year', 'vehicle_type', 'make_name', 'vehicle_color', 'region', 'population', 'population_density']]"
   ]
  },
  {
   "cell_type": "code",
   "execution_count": 360,
   "id": "f761bb48-eb72-451f-952d-a0df11ae07a6",
   "metadata": {},
   "outputs": [
    {
     "data": {
      "text/html": [
       "<div>\n",
       "<style scoped>\n",
       "    .dataframe tbody tr th:only-of-type {\n",
       "        vertical-align: middle;\n",
       "    }\n",
       "\n",
       "    .dataframe tbody tr th {\n",
       "        vertical-align: top;\n",
       "    }\n",
       "\n",
       "    .dataframe thead th {\n",
       "        text-align: right;\n",
       "    }\n",
       "</style>\n",
       "<table border=\"1\" class=\"dataframe\">\n",
       "  <thead>\n",
       "    <tr style=\"text-align: right;\">\n",
       "      <th></th>\n",
       "      <th>date_stolen</th>\n",
       "      <th>year_stolen</th>\n",
       "      <th>month_stolen</th>\n",
       "      <th>make_type</th>\n",
       "      <th>model_year</th>\n",
       "      <th>vehicle_type</th>\n",
       "      <th>make_name</th>\n",
       "      <th>vehicle_color</th>\n",
       "      <th>region</th>\n",
       "      <th>population</th>\n",
       "      <th>population_density</th>\n",
       "    </tr>\n",
       "  </thead>\n",
       "  <tbody>\n",
       "    <tr>\n",
       "      <th>0</th>\n",
       "      <td>2021-10-07</td>\n",
       "      <td>2021</td>\n",
       "      <td>10</td>\n",
       "      <td>Standard</td>\n",
       "      <td>2004</td>\n",
       "      <td>Boat Trailer</td>\n",
       "      <td>Trailer</td>\n",
       "      <td>White</td>\n",
       "      <td>Bay of Plenty</td>\n",
       "      <td>347700</td>\n",
       "      <td>28.80</td>\n",
       "    </tr>\n",
       "    <tr>\n",
       "      <th>1</th>\n",
       "      <td>2021-10-07</td>\n",
       "      <td>2021</td>\n",
       "      <td>10</td>\n",
       "      <td>Standard</td>\n",
       "      <td>2007</td>\n",
       "      <td>Trailer</td>\n",
       "      <td>Trailer</td>\n",
       "      <td>Black</td>\n",
       "      <td>Waikato</td>\n",
       "      <td>513800</td>\n",
       "      <td>21.50</td>\n",
       "    </tr>\n",
       "    <tr>\n",
       "      <th>2</th>\n",
       "      <td>2021-10-07</td>\n",
       "      <td>2021</td>\n",
       "      <td>10</td>\n",
       "      <td>Luxury</td>\n",
       "      <td>2017</td>\n",
       "      <td>Roadbike</td>\n",
       "      <td>BMW</td>\n",
       "      <td>White</td>\n",
       "      <td>Auckland</td>\n",
       "      <td>1695200</td>\n",
       "      <td>343.09</td>\n",
       "    </tr>\n",
       "    <tr>\n",
       "      <th>3</th>\n",
       "      <td>2021-10-07</td>\n",
       "      <td>2021</td>\n",
       "      <td>10</td>\n",
       "      <td>Standard</td>\n",
       "      <td>2006</td>\n",
       "      <td>Saloon</td>\n",
       "      <td>Ford</td>\n",
       "      <td>Grey</td>\n",
       "      <td>Wellington</td>\n",
       "      <td>543500</td>\n",
       "      <td>67.52</td>\n",
       "    </tr>\n",
       "    <tr>\n",
       "      <th>4</th>\n",
       "      <td>2021-10-07</td>\n",
       "      <td>2021</td>\n",
       "      <td>10</td>\n",
       "      <td>Standard</td>\n",
       "      <td>2008</td>\n",
       "      <td>Light Van</td>\n",
       "      <td>Toyota</td>\n",
       "      <td>Silver</td>\n",
       "      <td>Otago</td>\n",
       "      <td>246000</td>\n",
       "      <td>7.89</td>\n",
       "    </tr>\n",
       "  </tbody>\n",
       "</table>\n",
       "</div>"
      ],
      "text/plain": [
       "  date_stolen  year_stolen  month_stolen make_type  model_year  vehicle_type  \\\n",
       "0  2021-10-07         2021            10  Standard        2004  Boat Trailer   \n",
       "1  2021-10-07         2021            10  Standard        2007       Trailer   \n",
       "2  2021-10-07         2021            10    Luxury        2017      Roadbike   \n",
       "3  2021-10-07         2021            10  Standard        2006        Saloon   \n",
       "4  2021-10-07         2021            10  Standard        2008     Light Van   \n",
       "\n",
       "  make_name vehicle_color         region  population  population_density  \n",
       "0   Trailer         White  Bay of Plenty      347700               28.80  \n",
       "1   Trailer         Black        Waikato      513800               21.50  \n",
       "2       BMW         White       Auckland     1695200              343.09  \n",
       "3      Ford          Grey     Wellington      543500               67.52  \n",
       "4    Toyota        Silver          Otago      246000                7.89  "
      ]
     },
     "execution_count": 360,
     "metadata": {},
     "output_type": "execute_result"
    }
   ],
   "source": [
    "df.head()"
   ]
  },
  {
   "cell_type": "code",
   "execution_count": 362,
   "id": "db4e093e-27d6-4fdc-9b81-b6af682d08ee",
   "metadata": {},
   "outputs": [],
   "source": [
    "# Find thefts per month - remember data goes from 10-7-2021 to 4-6-2022"
   ]
  },
  {
   "cell_type": "code",
   "execution_count": 364,
   "id": "94884b52-c322-4c70-9bb0-d2d45e116c8f",
   "metadata": {},
   "outputs": [],
   "source": [
    "thefts_per_month_year = df.groupby(['year_stolen', 'month_stolen']).size().unstack(fill_value=0)"
   ]
  },
  {
   "cell_type": "code",
   "execution_count": 366,
   "id": "830e5598-22c7-4160-81fe-f126774099e9",
   "metadata": {},
   "outputs": [
    {
     "name": "stdout",
     "output_type": "stream",
     "text": [
      "month_stolen   1    2     3    4    10   11   12\n",
      "year_stolen                                     \n",
      "2021            0    0     0    0  461  556  640\n",
      "2022          737  757  1049  327    0    0    0\n"
     ]
    }
   ],
   "source": [
    "print(thefts_per_month_year)"
   ]
  },
  {
   "cell_type": "code",
   "execution_count": 368,
   "id": "13e47fdb-b623-443f-9461-04f74b8634e1",
   "metadata": {},
   "outputs": [],
   "source": [
    "# Note: Would want data from a full year to make any analysis on what time of year has the most vehicles stolen"
   ]
  },
  {
   "cell_type": "code",
   "execution_count": 370,
   "id": "4a4ad7e6-c27f-4711-b2ec-7de63359bc9b",
   "metadata": {},
   "outputs": [],
   "source": [
    "# Find which makes and make_types are most commonly stolen"
   ]
  },
  {
   "cell_type": "code",
   "execution_count": 372,
   "id": "dec4dbcf-980c-4247-af76-2864bb624907",
   "metadata": {},
   "outputs": [],
   "source": [
    "thefts_by_make = df.groupby('make_name').size().sort_values(ascending=False)\n",
    "thefts_by_make_type = df.groupby('make_type').size().sort_values(ascending=False)"
   ]
  },
  {
   "cell_type": "code",
   "execution_count": 374,
   "id": "0c5f7709-f2e3-43c2-8699-9f512d969039",
   "metadata": {},
   "outputs": [
    {
     "name": "stdout",
     "output_type": "stream",
     "text": [
      "make_name\n",
      "Toyota     716\n",
      "Trailer    543\n",
      "Nissan     482\n",
      "Mazda      433\n",
      "Ford       312\n",
      "          ... \n",
      "Scomadi      1\n",
      "Seat         1\n",
      "Skoda        1\n",
      "Sprite       1\n",
      "Renault      1\n",
      "Length: 136, dtype: int64\n"
     ]
    }
   ],
   "source": [
    "print(thefts_by_make)"
   ]
  },
  {
   "cell_type": "code",
   "execution_count": 376,
   "id": "c666f4d4-3a6a-44df-9724-a6340d06d64c",
   "metadata": {},
   "outputs": [
    {
     "name": "stdout",
     "output_type": "stream",
     "text": [
      "make_type\n",
      "Standard    4338\n",
      "Luxury       189\n",
      "dtype: int64\n"
     ]
    }
   ],
   "source": [
    "print(thefts_by_make_type)"
   ]
  },
  {
   "cell_type": "code",
   "execution_count": 378,
   "id": "617f8eb7-204d-4b5f-aadf-e9d6d2b0142c",
   "metadata": {},
   "outputs": [],
   "source": [
    "# Find which vehicle color is most commonly stolen"
   ]
  },
  {
   "cell_type": "code",
   "execution_count": 380,
   "id": "38b1d17d-b168-4cf5-8f55-b960d18a34ae",
   "metadata": {},
   "outputs": [],
   "source": [
    "thefts_by_color = df.groupby('vehicle_color').size().sort_values(ascending=False)"
   ]
  },
  {
   "cell_type": "code",
   "execution_count": 382,
   "id": "7ddabb85-2dd9-4af6-8247-47145d35321d",
   "metadata": {},
   "outputs": [
    {
     "name": "stdout",
     "output_type": "stream",
     "text": [
      "vehicle_color\n",
      "Silver    1272\n",
      "White      932\n",
      "Black      586\n",
      "Blue       511\n",
      "Red        388\n",
      "Grey       377\n",
      "Green      224\n",
      "Gold        77\n",
      "Brown       49\n",
      "Yellow      37\n",
      "Orange      35\n",
      "Purple      26\n",
      "Cream        9\n",
      "Pink         4\n",
      "dtype: int64\n"
     ]
    }
   ],
   "source": [
    "print(thefts_by_color)"
   ]
  },
  {
   "cell_type": "code",
   "execution_count": 384,
   "id": "62a980e8-20d1-43c4-aba5-67cbbe377b5a",
   "metadata": {},
   "outputs": [],
   "source": [
    "# Find if newer or older cars are more common"
   ]
  },
  {
   "cell_type": "code",
   "execution_count": 386,
   "id": "2f42c319-8090-44c9-b581-6c534b1c50b6",
   "metadata": {},
   "outputs": [],
   "source": [
    "thefts_by_model_year = df.groupby('model_year').size().sort_values(ascending=False)"
   ]
  },
  {
   "cell_type": "code",
   "execution_count": 388,
   "id": "c9806ce0-ae9e-4f5c-9855-9214c258b23b",
   "metadata": {},
   "outputs": [
    {
     "name": "stdout",
     "output_type": "stream",
     "text": [
      "model_year\n",
      "2005    346\n",
      "2006    333\n",
      "2007    250\n",
      "2004    238\n",
      "2008    190\n",
      "       ... \n",
      "1957      1\n",
      "1943      1\n",
      "1965      1\n",
      "1968      1\n",
      "1940      1\n",
      "Length: 63, dtype: int64\n"
     ]
    }
   ],
   "source": [
    "print(thefts_by_model_year)"
   ]
  },
  {
   "cell_type": "code",
   "execution_count": 390,
   "id": "a823a249-22ed-4ad0-a300-5e3e51865f40",
   "metadata": {},
   "outputs": [],
   "source": [
    "# Find most common region for thefts"
   ]
  },
  {
   "cell_type": "code",
   "execution_count": 392,
   "id": "cd14baf3-133c-4efd-ae1a-23f312e14c32",
   "metadata": {},
   "outputs": [],
   "source": [
    "thefts_by_region = df.groupby('region').size().sort_values(ascending=False)"
   ]
  },
  {
   "cell_type": "code",
   "execution_count": 394,
   "id": "b744e837-30a8-4d43-b1fb-ce8ff23f8e6a",
   "metadata": {},
   "outputs": [
    {
     "name": "stdout",
     "output_type": "stream",
     "text": [
      "region\n",
      "Auckland              1626\n",
      "Canterbury             660\n",
      "Bay of Plenty          442\n",
      "Wellington             417\n",
      "Waikato                369\n",
      "Northland              233\n",
      "Gisborne               175\n",
      "Manawatū-Whanganui     138\n",
      "Otago                  137\n",
      "Taranaki               112\n",
      "Hawke's Bay            100\n",
      "Nelson                  92\n",
      "Southland               26\n",
      "dtype: int64\n"
     ]
    }
   ],
   "source": [
    "print(thefts_by_region)"
   ]
  },
  {
   "cell_type": "code",
   "execution_count": 396,
   "id": "d58eae4e-ff43-40f3-bf28-46a7e48d691c",
   "metadata": {},
   "outputs": [],
   "source": [
    "# Find is a higher population density correlates with more thefts"
   ]
  },
  {
   "cell_type": "code",
   "execution_count": 400,
   "id": "262944bd-f45d-4ece-934e-239a3317f5ab",
   "metadata": {},
   "outputs": [],
   "source": [
    "missing_values = df['population_density'].isnull().sum()"
   ]
  },
  {
   "cell_type": "code",
   "execution_count": 402,
   "id": "7d999bce-18b2-4d57-bf6c-df19d51bdac7",
   "metadata": {},
   "outputs": [
    {
     "name": "stdout",
     "output_type": "stream",
     "text": [
      "Missing values in population_density: 0\n"
     ]
    }
   ],
   "source": [
    "print(f\"Missing values in population_density: {missing_values}\")"
   ]
  },
  {
   "cell_type": "code",
   "execution_count": 404,
   "id": "db3ac2e4-62e0-4bd4-860c-51e23c97e1f6",
   "metadata": {},
   "outputs": [
    {
     "name": "stdout",
     "output_type": "stream",
     "text": [
      "The most common population density for thefts is: 343.09\n"
     ]
    }
   ],
   "source": [
    "most_common_population_density = df['population_density'].mode()[0]\n",
    "print(f\"The most common population density for thefts is: {most_common_population_density}\")"
   ]
  }
 ],
 "metadata": {
  "kernelspec": {
   "display_name": "Python 3",
   "language": "python",
   "name": "myenv"
  },
  "language_info": {
   "codemirror_mode": {
    "name": "ipython",
    "version": 3
   },
   "file_extension": ".py",
   "mimetype": "text/x-python",
   "name": "python",
   "nbconvert_exporter": "python",
   "pygments_lexer": "ipython3",
   "version": "3.9.21"
  }
 },
 "nbformat": 4,
 "nbformat_minor": 5
}
